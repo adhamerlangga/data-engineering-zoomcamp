{
 "cells": [
  {
   "cell_type": "code",
   "execution_count": 1,
   "metadata": {},
   "outputs": [],
   "source": [
    "import findspark\n",
    "findspark.init()"
   ]
  },
  {
   "cell_type": "code",
   "execution_count": 2,
   "metadata": {},
   "outputs": [],
   "source": [
    "import pyspark\n",
    "from pyspark.sql import SparkSession"
   ]
  },
  {
   "cell_type": "code",
   "execution_count": 3,
   "metadata": {},
   "outputs": [],
   "source": [
    "spark = SparkSession.builder \\\n",
    "    .master(\"local[*]\") \\\n",
    "    .appName('test') \\\n",
    "    .getOrCreate()"
   ]
  },
  {
   "cell_type": "code",
   "execution_count": 4,
   "metadata": {},
   "outputs": [],
   "source": [
    "df_green = spark.read.csv('data/raw/green/*/*', header=True, inferSchema=True)"
   ]
  },
  {
   "cell_type": "code",
   "execution_count": 5,
   "metadata": {},
   "outputs": [
    {
     "name": "stderr",
     "output_type": "stream",
     "text": [
      "C:\\tools\\spark-3.3.2-bin-hadoop3\\python\\pyspark\\sql\\dataframe.py:229: FutureWarning: Deprecated in 2.0, use createOrReplaceTempView instead.\n",
      "  warnings.warn(\"Deprecated in 2.0, use createOrReplaceTempView instead.\", FutureWarning)\n"
     ]
    }
   ],
   "source": [
    "df_green.registerTempTable('green')"
   ]
  },
  {
   "cell_type": "code",
   "execution_count": 6,
   "metadata": {},
   "outputs": [],
   "source": [
    "df_green_revenue = spark.sql(\"\"\"\n",
    "SELECT \n",
    "    -- Reveneue grouping \n",
    "    PULocationID AS revenue_zone,\n",
    "    date_trunc('hour', lpep_pickup_datetime) AS hour_month, \n",
    "\n",
    "    SUM(total_amount) AS revenue_monthly_total_amount,\n",
    "    count(*) as number_records\n",
    "FROM\n",
    "    green\n",
    "WHERE\n",
    "    lpep_pickup_datetime >= '2020-01-01 00:00:00'\n",
    "GROUP BY\n",
    "    1, 2\n",
    "\"\"\")"
   ]
  },
  {
   "cell_type": "code",
   "execution_count": 7,
   "metadata": {},
   "outputs": [
    {
     "name": "stdout",
     "output_type": "stream",
     "text": [
      "+------------+-------------------+----------------------------+--------------+\n",
      "|revenue_zone|         hour_month|revenue_monthly_total_amount|number_records|\n",
      "+------------+-------------------+----------------------------+--------------+\n",
      "|           7|2020-01-01 00:00:00|           769.7299999999997|            45|\n",
      "|         217|2020-01-01 01:00:00|                       12.55|             2|\n",
      "|          82|2020-01-01 03:00:00|           401.1400000000002|            34|\n",
      "|         247|2020-01-01 05:00:00|          35.400000000000006|             3|\n",
      "|          80|2020-01-01 09:00:00|                      554.73|            15|\n",
      "|          72|2020-01-01 09:00:00|                         6.3|             1|\n",
      "|         167|2020-01-01 11:00:00|                         0.0|             1|\n",
      "|         131|2020-01-01 18:00:00|                        10.3|             1|\n",
      "|           7|2020-01-01 19:00:00|                      182.14|            17|\n",
      "|          95|2020-01-02 13:00:00|          372.05000000000007|            22|\n",
      "|          74|2020-01-02 04:00:00|                       43.55|             3|\n",
      "|          52|2020-01-02 06:00:00|                       35.17|             1|\n",
      "|          42|2020-01-02 11:00:00|           503.5600000000002|            32|\n",
      "|         243|2020-01-02 11:00:00|                       144.0|             5|\n",
      "|          17|2020-01-02 11:00:00|                        13.8|             1|\n",
      "|          25|2020-01-02 15:00:00|           749.4300000000001|            29|\n",
      "|          74|2020-01-02 17:00:00|           799.8999999999999|            54|\n",
      "|         218|2020-01-02 18:00:00|                         8.3|             1|\n",
      "|         169|2020-01-02 20:00:00|                        13.8|             1|\n",
      "|          83|2020-01-02 23:00:00|                        22.9|             3|\n",
      "+------------+-------------------+----------------------------+--------------+\n",
      "only showing top 20 rows\n",
      "\n"
     ]
    }
   ],
   "source": [
    "df_green_revenue.show()"
   ]
  },
  {
   "cell_type": "code",
   "execution_count": 8,
   "metadata": {},
   "outputs": [],
   "source": [
    "df_green_revenue.write.parquet('data/report/revenue/green', mode = 'overwrite')"
   ]
  },
  {
   "cell_type": "code",
   "execution_count": 9,
   "metadata": {},
   "outputs": [
    {
     "name": "stderr",
     "output_type": "stream",
     "text": [
      "C:\\tools\\spark-3.3.2-bin-hadoop3\\python\\pyspark\\sql\\dataframe.py:229: FutureWarning: Deprecated in 2.0, use createOrReplaceTempView instead.\n",
      "  warnings.warn(\"Deprecated in 2.0, use createOrReplaceTempView instead.\", FutureWarning)\n"
     ]
    }
   ],
   "source": [
    "df_yellow = spark.read.csv('data/raw/yellow/*/*', header=True, inferSchema=True)\n",
    "df_yellow.registerTempTable('yellow')"
   ]
  },
  {
   "cell_type": "code",
   "execution_count": 10,
   "metadata": {},
   "outputs": [],
   "source": [
    "df_yellow_revenue = spark.sql(\"\"\"\n",
    "SELECT \n",
    "    -- Reveneue grouping \n",
    "    PULocationID AS revenue_zone,\n",
    "    date_trunc('hour', tpep_pickup_datetime) AS hour_month, \n",
    "\n",
    "    SUM(total_amount) AS revenue_monthly_total_amount,\n",
    "    count(*) as number_records\n",
    "FROM\n",
    "    yellow\n",
    "WHERE\n",
    "    tpep_pickup_datetime >= '2020-01-01 00:00:00'\n",
    "GROUP BY\n",
    "    1, 2\n",
    "\"\"\")"
   ]
  },
  {
   "cell_type": "code",
   "execution_count": 11,
   "metadata": {},
   "outputs": [
    {
     "name": "stdout",
     "output_type": "stream",
     "text": [
      "+------------+-------------------+----------------------------+--------------+\n",
      "|revenue_zone|         hour_month|revenue_monthly_total_amount|number_records|\n",
      "+------------+-------------------+----------------------------+--------------+\n",
      "|           7|2020-01-01 00:00:00|           455.1700000000002|            38|\n",
      "|         249|2020-01-01 01:00:00|           5515.590000000013|           272|\n",
      "|         217|2020-01-01 01:00:00|          41.400000000000006|             3|\n",
      "|          82|2020-01-01 03:00:00|          211.70000000000005|            14|\n",
      "|         247|2020-01-01 05:00:00|                         8.8|             1|\n",
      "|          79|2020-01-01 07:00:00|          2021.6899999999978|           106|\n",
      "|         163|2020-01-01 07:00:00|          1355.3999999999999|            45|\n",
      "|         217|2020-01-01 07:00:00|                        22.3|             1|\n",
      "|          80|2020-01-01 09:00:00|                       81.92|             4|\n",
      "|          24|2020-01-01 10:00:00|                      198.02|            11|\n",
      "|          79|2020-01-01 14:00:00|          2402.3199999999997|           154|\n",
      "|         131|2020-01-01 18:00:00|                        31.0|             1|\n",
      "|           7|2020-01-01 19:00:00|                        64.5|             5|\n",
      "|         148|2020-01-01 21:00:00|          1337.0199999999986|            82|\n",
      "|         232|2020-01-01 22:00:00|                      173.83|             6|\n",
      "|         239|2020-01-01 23:00:00|           525.0500000000001|            41|\n",
      "|         107|2020-01-02 00:00:00|          495.04000000000013|            32|\n",
      "|          88|2020-01-02 01:00:00|                      300.49|             7|\n",
      "|          17|2020-01-02 03:00:00|          45.559999999999995|             2|\n",
      "|          74|2020-01-02 04:00:00|                      155.61|            13|\n",
      "+------------+-------------------+----------------------------+--------------+\n",
      "only showing top 20 rows\n",
      "\n"
     ]
    }
   ],
   "source": [
    "df_yellow_revenue.show()"
   ]
  },
  {
   "cell_type": "code",
   "execution_count": 12,
   "metadata": {},
   "outputs": [],
   "source": [
    "df_yellow_revenue.write.parquet('data/report/revenue/yellow', mode = 'overwrite')"
   ]
  },
  {
   "cell_type": "code",
   "execution_count": null,
   "metadata": {},
   "outputs": [],
   "source": []
  }
 ],
 "metadata": {
  "kernelspec": {
   "display_name": "Python 3",
   "language": "python",
   "name": "python3"
  },
  "language_info": {
   "codemirror_mode": {
    "name": "ipython",
    "version": 3
   },
   "file_extension": ".py",
   "mimetype": "text/x-python",
   "name": "python",
   "nbconvert_exporter": "python",
   "pygments_lexer": "ipython3",
   "version": "3.9.13"
  }
 },
 "nbformat": 4,
 "nbformat_minor": 2
}
