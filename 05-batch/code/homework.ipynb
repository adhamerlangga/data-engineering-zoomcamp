{
 "cells": [
  {
   "cell_type": "code",
   "execution_count": 50,
   "metadata": {},
   "outputs": [],
   "source": [
    "import findspark\n",
    "import os\n",
    "findspark.init()\n",
    "\n",
    "import pyspark\n",
    "from pyspark.sql import SparkSession\n",
    "from pyspark.sql.functions import col, to_date, hour"
   ]
  },
  {
   "cell_type": "code",
   "execution_count": 4,
   "metadata": {},
   "outputs": [],
   "source": [
    "spark = SparkSession.builder \\\n",
    "    .master(\"local[*]\") \\\n",
    "    .appName('test') \\\n",
    "    .getOrCreate()"
   ]
  },
  {
   "cell_type": "markdown",
   "metadata": {},
   "source": [
    "# Question 1:\n",
    "\n",
    "## Install Spark and PySpark\n",
    "\n",
    "- Install Spark\n",
    "- Run PySpark\n",
    "- Create a local spark session\n",
    "- Execute spark.version.\n",
    "\n",
    "**What's the output?**"
   ]
  },
  {
   "cell_type": "code",
   "execution_count": 5,
   "metadata": {},
   "outputs": [
    {
     "name": "stdout",
     "output_type": "stream",
     "text": [
      "3.3.2\n"
     ]
    }
   ],
   "source": [
    "print(spark.version)"
   ]
  },
  {
   "cell_type": "markdown",
   "metadata": {},
   "source": [
    "# Question 2:\n",
    "## FHV October 2019\n",
    "\n",
    "Read the October 2019 FHV into a Spark Dataframe with a schema as we did in the lessons.\n",
    "\n",
    "Repartition the Dataframe to 6 partitions and save it to parquet.\n",
    "\n",
    "What is the average size of the Parquet (ending with .parquet extension) Files that were created (in MB)? Select the answer which most closely matches.\n",
    "\n",
    "- 1MB\n",
    "- 6MB\n",
    "- 25MB\n",
    "- 87MB"
   ]
  },
  {
   "cell_type": "code",
   "execution_count": 6,
   "metadata": {},
   "outputs": [
    {
     "name": "stdout",
     "output_type": "stream",
     "text": [
      "+--------------------+-------------------+-------------------+------------+------------+-------+----------------------+\n",
      "|dispatching_base_num|    pickup_datetime|   dropOff_datetime|PUlocationID|DOlocationID|SR_Flag|Affiliated_base_number|\n",
      "+--------------------+-------------------+-------------------+------------+------------+-------+----------------------+\n",
      "|              B00009|2019-10-01 00:23:00|2019-10-01 00:35:00|         264|         264|   null|                B00009|\n",
      "|              B00013|2019-10-01 00:11:29|2019-10-01 00:13:22|         264|         264|   null|                B00013|\n",
      "|              B00014|2019-10-01 00:11:43|2019-10-01 00:37:20|         264|         264|   null|                B00014|\n",
      "|              B00014|2019-10-01 00:56:29|2019-10-01 00:57:47|         264|         264|   null|                B00014|\n",
      "|              B00014|2019-10-01 00:23:09|2019-10-01 00:28:27|         264|         264|   null|                B00014|\n",
      "|     B00021         |2019-10-01 00:00:48|2019-10-01 00:07:12|         129|         129|   null|       B00021         |\n",
      "|     B00021         |2019-10-01 00:47:23|2019-10-01 00:53:25|          57|          57|   null|       B00021         |\n",
      "|     B00021         |2019-10-01 00:10:06|2019-10-01 00:19:50|         173|         173|   null|       B00021         |\n",
      "|     B00021         |2019-10-01 00:51:37|2019-10-01 01:06:14|         226|         226|   null|       B00021         |\n",
      "|     B00021         |2019-10-01 00:28:23|2019-10-01 00:34:33|          56|          56|   null|       B00021         |\n",
      "+--------------------+-------------------+-------------------+------------+------------+-------+----------------------+\n",
      "only showing top 10 rows\n",
      "\n"
     ]
    }
   ],
   "source": [
    "df = spark.read.csv('fhvhv\\\\fhv_tripdata_2019-10.csv.gz', header=True, inferSchema=True)\n",
    "df.show(10)"
   ]
  },
  {
   "cell_type": "code",
   "execution_count": 12,
   "metadata": {},
   "outputs": [],
   "source": [
    "repart_df = df.repartition(6)"
   ]
  },
  {
   "cell_type": "code",
   "execution_count": 13,
   "metadata": {},
   "outputs": [],
   "source": [
    "repart_df.write.parquet('fhvhv/output/fhvhv_repart_6.parquet')"
   ]
  },
  {
   "cell_type": "code",
   "execution_count": 15,
   "metadata": {},
   "outputs": [],
   "source": [
    "import os"
   ]
  },
  {
   "cell_type": "code",
   "execution_count": 32,
   "metadata": {},
   "outputs": [
    {
     "name": "stdout",
     "output_type": "stream",
     "text": [
      "['part-00000-b7d65ad2-4e86-4bba-86af-af6962aa42ec-c000.snappy.parquet', 'part-00001-b7d65ad2-4e86-4bba-86af-af6962aa42ec-c000.snappy.parquet', 'part-00002-b7d65ad2-4e86-4bba-86af-af6962aa42ec-c000.snappy.parquet', 'part-00003-b7d65ad2-4e86-4bba-86af-af6962aa42ec-c000.snappy.parquet', 'part-00004-b7d65ad2-4e86-4bba-86af-af6962aa42ec-c000.snappy.parquet', 'part-00005-b7d65ad2-4e86-4bba-86af-af6962aa42ec-c000.snappy.parquet']\n"
     ]
    }
   ],
   "source": [
    "# Directory path\n",
    "path = 'fhvhv/output/fhvhv_repart_6.parquet'\n",
    "\n",
    "# List all parquet files (ignoring hidden .crc files)\n",
    "parquet_files = [f for f in os.listdir(path) if f.endswith('.parquet') and not f.startswith('.')]\n",
    "\n",
    "# Check if files are being filtered correctly\n",
    "print(parquet_files)"
   ]
  },
  {
   "cell_type": "code",
   "execution_count": 31,
   "metadata": {},
   "outputs": [
    {
     "data": {
      "text/plain": [
       "['.part-00000-b7d65ad2-4e86-4bba-86af-af6962aa42ec-c000.snappy.parquet.crc',\n",
       " '.part-00001-b7d65ad2-4e86-4bba-86af-af6962aa42ec-c000.snappy.parquet.crc',\n",
       " '.part-00002-b7d65ad2-4e86-4bba-86af-af6962aa42ec-c000.snappy.parquet.crc',\n",
       " '.part-00003-b7d65ad2-4e86-4bba-86af-af6962aa42ec-c000.snappy.parquet.crc',\n",
       " '.part-00004-b7d65ad2-4e86-4bba-86af-af6962aa42ec-c000.snappy.parquet.crc',\n",
       " '.part-00005-b7d65ad2-4e86-4bba-86af-af6962aa42ec-c000.snappy.parquet.crc',\n",
       " '._SUCCESS.crc',\n",
       " 'part-00000-b7d65ad2-4e86-4bba-86af-af6962aa42ec-c000.snappy.parquet',\n",
       " 'part-00001-b7d65ad2-4e86-4bba-86af-af6962aa42ec-c000.snappy.parquet',\n",
       " 'part-00002-b7d65ad2-4e86-4bba-86af-af6962aa42ec-c000.snappy.parquet',\n",
       " 'part-00003-b7d65ad2-4e86-4bba-86af-af6962aa42ec-c000.snappy.parquet',\n",
       " 'part-00004-b7d65ad2-4e86-4bba-86af-af6962aa42ec-c000.snappy.parquet',\n",
       " 'part-00005-b7d65ad2-4e86-4bba-86af-af6962aa42ec-c000.snappy.parquet',\n",
       " '_SUCCESS']"
      ]
     },
     "execution_count": 31,
     "metadata": {},
     "output_type": "execute_result"
    }
   ],
   "source": [
    "os.listdir('fhvhv/output/fhvhv_repart_6.parquet')"
   ]
  },
  {
   "cell_type": "code",
   "execution_count": 40,
   "metadata": {},
   "outputs": [],
   "source": [
    "parquet_files = [file for file in os.listdir('fhvhv/output/fhvhv_repart_6.parquet') if file.endswith('.parquet') and not file.startswith('.')]\n",
    "total_size = sum(os.path.getsize(os.path.join('fhvhv/output/fhvhv_repart_6.parquet',f)) for f in parquet_files)"
   ]
  },
  {
   "cell_type": "code",
   "execution_count": 41,
   "metadata": {},
   "outputs": [
    {
     "data": {
      "text/plain": [
       "['part-00000-b7d65ad2-4e86-4bba-86af-af6962aa42ec-c000.snappy.parquet',\n",
       " 'part-00001-b7d65ad2-4e86-4bba-86af-af6962aa42ec-c000.snappy.parquet',\n",
       " 'part-00002-b7d65ad2-4e86-4bba-86af-af6962aa42ec-c000.snappy.parquet',\n",
       " 'part-00003-b7d65ad2-4e86-4bba-86af-af6962aa42ec-c000.snappy.parquet',\n",
       " 'part-00004-b7d65ad2-4e86-4bba-86af-af6962aa42ec-c000.snappy.parquet',\n",
       " 'part-00005-b7d65ad2-4e86-4bba-86af-af6962aa42ec-c000.snappy.parquet']"
      ]
     },
     "execution_count": 41,
     "metadata": {},
     "output_type": "execute_result"
    }
   ],
   "source": [
    "parquet_files"
   ]
  },
  {
   "cell_type": "code",
   "execution_count": 42,
   "metadata": {},
   "outputs": [],
   "source": [
    "total_size_mb = total_size / (1024 * 1024)"
   ]
  },
  {
   "cell_type": "code",
   "execution_count": 43,
   "metadata": {},
   "outputs": [
    {
     "name": "stdout",
     "output_type": "stream",
     "text": [
      "6.350232283274333\n"
     ]
    }
   ],
   "source": [
    "average_size_mb = total_size_mb / len(parquet_files)\n",
    "print(average_size_mb)"
   ]
  },
  {
   "cell_type": "markdown",
   "metadata": {},
   "source": [
    "# Question 3:\n",
    "## Count records\n",
    "\n",
    "__How many taxi trips were there on the 15th of October?__\n",
    "\n",
    "Consider only trips that started on the 15th of October.\n",
    "\n",
    "- 108,164\n",
    "- 12,856\n",
    "- 452,470\n",
    "- 62,610"
   ]
  },
  {
   "cell_type": "code",
   "execution_count": 24,
   "metadata": {},
   "outputs": [],
   "source": [
    "pickup_date_df = df.withColumn(\"pickup_date\",to_date(col('pickup_datetime'))).select('pickup_date')"
   ]
  },
  {
   "cell_type": "code",
   "execution_count": 28,
   "metadata": {},
   "outputs": [
    {
     "data": {
      "text/plain": [
       "62610"
      ]
     },
     "execution_count": 28,
     "metadata": {},
     "output_type": "execute_result"
    }
   ],
   "source": [
    "pickup_date_df.filter(pickup_date_df.pickup_date == '2019-10-15').count()"
   ]
  },
  {
   "cell_type": "markdown",
   "metadata": {},
   "source": [
    "# Question 4:\n",
    "## Longest trip for each day\n",
    "\n",
    "__What is the length of the longest trip in the dataset in hours?__\n",
    "\n",
    "- 631,152.50 Hours\n",
    "- 243.44 Hours\n",
    "- 7.68 Hours\n",
    "- 3.32 Hours"
   ]
  },
  {
   "cell_type": "code",
   "execution_count": 33,
   "metadata": {},
   "outputs": [],
   "source": [
    "df = df.withColumn('pickup_date',to_date(col('pickup_datetime')))\n",
    "df = df.withColumn('dropOff_date',to_date(col('dropOff_datetime')))"
   ]
  },
  {
   "cell_type": "code",
   "execution_count": 59,
   "metadata": {},
   "outputs": [
    {
     "name": "stdout",
     "output_type": "stream",
     "text": [
      "+--------------------+\n",
      "|            duration|\n",
      "+--------------------+\n",
      "|INTERVAL '-0 00:1...|\n",
      "|INTERVAL '-0 00:0...|\n",
      "|INTERVAL '-0 00:2...|\n",
      "|INTERVAL '-0 00:0...|\n",
      "|INTERVAL '-0 00:0...|\n",
      "|INTERVAL '-0 00:0...|\n",
      "|INTERVAL '-0 00:0...|\n",
      "|INTERVAL '-0 00:0...|\n",
      "|INTERVAL '-0 00:1...|\n",
      "|INTERVAL '-0 00:0...|\n",
      "|INTERVAL '-0 00:2...|\n",
      "|INTERVAL '-0 00:0...|\n",
      "|INTERVAL '-0 00:1...|\n",
      "|INTERVAL '-0 00:1...|\n",
      "|INTERVAL '-0 00:1...|\n",
      "|INTERVAL '-0 00:0...|\n",
      "|INTERVAL '-0 00:1...|\n",
      "|INTERVAL '-0 00:0...|\n",
      "|INTERVAL '-0 00:2...|\n",
      "|INTERVAL '-0 00:4...|\n",
      "+--------------------+\n",
      "only showing top 20 rows\n",
      "\n"
     ]
    }
   ],
   "source": [
    "df.withColumn('duration',df['pickup_datetime'] - df['dropOff_datetime']).select('duration').show()"
   ]
  }
 ],
 "metadata": {
  "kernelspec": {
   "display_name": "Python 3",
   "language": "python",
   "name": "python3"
  },
  "language_info": {
   "codemirror_mode": {
    "name": "ipython",
    "version": 3
   },
   "file_extension": ".py",
   "mimetype": "text/x-python",
   "name": "python",
   "nbconvert_exporter": "python",
   "pygments_lexer": "ipython3",
   "version": "3.9.13"
  }
 },
 "nbformat": 4,
 "nbformat_minor": 2
}
